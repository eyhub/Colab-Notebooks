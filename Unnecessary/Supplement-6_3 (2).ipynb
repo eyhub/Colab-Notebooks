{
  "cells": [
    {
      "attachments": {},
      "cell_type": "markdown",
      "metadata": {},
      "source": [
        "## Supplement 6: Decision Trees and Random Forest"
      ]
    },
    {
      "cell_type": "code",
      "execution_count": 1,
      "metadata": {},
      "outputs": [],
      "source": [
        "%matplotlib inline\n",
        "import numpy as np\n",
        "import pandas as pd\n",
        "\n",
        "from sklearn.ensemble import RandomForestClassifier\n",
        "from sklearn import tree\n",
        "from scipy.stats import mode\n"
      ]
    },
    {
      "attachments": {},
      "cell_type": "markdown",
      "metadata": {},
      "source": [
        "### 6.3 Programming Task: Song popularity prediction using Random Forest\n",
        "The goal of this task is to train a random forest model that predicts the song popularity using the datasets already provided in task 4.3\n",
        " "
      ]
    },
    {
      "cell_type": "code",
      "execution_count": 12,
      "metadata": {},
      "outputs": [],
      "source": [
        "import pandas as pd\n",
        "\n",
        "# Read CSV files\n",
        "train_df = pd.read_csv(\"train-songs.csv\")\n",
        "test_df = pd.read_csv(\"test-songs.csv\")\n",
        "\n",
        "train_X = train_df.drop(columns=[\"popular\"])\n",
        "train_y = train_df[\"popular\"]\n",
        "\n",
        "test_X = test_df.drop(columns=[\"popular\"])\n",
        "test_y = test_df[\"popular\"]"
      ]
    },
    {
      "attachments": {},
      "cell_type": "markdown",
      "metadata": {},
      "source": [
        "   i\\. Implement a function that draws a bootstrap sample of size N from the train dataset, where N can be specified by the user.\n",
        "\n",
        "\n"
      ]
    },
    {
      "cell_type": "code",
      "execution_count": 13,
      "metadata": {},
      "outputs": [],
      "source": [
        "import numpy as np\n",
        "\n",
        "def generate_bootstrap(train_X, train_y, N):\n",
        "    indices = np.random.randint(0, len(train_X), size=N)\n",
        "\n",
        "    # Create bootstrap samples\n",
        "    X_bootstrap = train_X.iloc[indices]\n",
        "    y_bootstrap = train_y.iloc[indices]\n",
        "\n",
        "    return X_bootstrap, y_bootstrap"
      ]
    },
    {
      "attachments": {},
      "cell_type": "markdown",
      "metadata": {},
      "source": [
        "   ii\\. Complete the implementation of the random forest algorithm. For this task you may use the DecisionTreeClassifier from the scikit-learn library. The other parts of the random forest algorithm must be implemented using only Scipy/Numpy."
      ]
    },
    {
      "cell_type": "code",
      "execution_count": 24,
      "metadata": {},
      "outputs": [],
      "source": [
        "from sklearn import tree\n",
        "\n",
        "class RandomForest:\n",
        "    \n",
        "    def __init__(self, n_trees, max_features, max_samples, min_node_size, max_depth):\n",
        "        \"\"\"\n",
        "        n_trees      : Number of decision trees in the ensemble.\n",
        "        max_features : Number (or range) of features to consider when looking for splits.\n",
        "                       (Passed directly to DecisionTreeClassifier.)\n",
        "        max_samples  : Number or fraction of samples used to create each bootstrap sample.\n",
        "        min_node_size: Passed as min_samples_leaf to DecisionTreeClassifier.\n",
        "        max_depth    : Maximum depth of each tree.\n",
        "        \"\"\"\n",
        "        self.n_trees = n_trees\n",
        "        self.max_features = max_features\n",
        "        self.max_samples = max_samples\n",
        "        self.min_node_size = min_node_size\n",
        "        self.max_depth = max_depth\n",
        "        self.trees = []\n",
        "\n",
        "    \n",
        "\n",
        "    def train(self, train_X, train_y):\n",
        "        \"\"\"Train each decision tree on a bootstrap sample.\"\"\"\n",
        "        for _ in range(self.n_trees):\n",
        "            # Determine the actual number of samples if max_samples is fractional\n",
        "            if isinstance(self.max_samples, float):\n",
        "                n_samples = int(len(train_X) * self.max_samples)\n",
        "            else:\n",
        "                n_samples = self.max_samples\n",
        "\n",
        "            X_boot, y_boot = generate_bootstrap(train_X, train_y, n_samples)\n",
        "\n",
        "            \"\"\"# Create a weak classifier (decision tree)\n",
        "            tree = DecisionTreeClassifier(\n",
        "                max_features=self.max_features,\n",
        "                max_depth=self.max_depth,\n",
        "                min_samples_leaf=self.min_node_size\n",
        "            )\"\"\"\n",
        "            \n",
        "            tree_a = tree.DecisionTreeClassifier(\n",
        "                max_features=self.max_features,\n",
        "                max_depth=self.max_depth,\n",
        "                min_samples_leaf=self.min_node_size\n",
        "            )\n",
        "\n",
        "\n",
        "            # Train the tree on the bootstrap sample\n",
        "            tree_a.fit(X_boot, y_boot)\n",
        "            self.trees.append(tree_a)\n",
        "\n",
        "    def predict(self, test_X):\n",
        "        \"\"\"Predict by majority vote across all trained trees.\"\"\"\n",
        "        # Collect predictions from each tree\n",
        "        all_preds = np.array([tree.predict(test_X) for f in self.trees])  # shape: (n_trees, n_samples)\n",
        "\n",
        "        final_preds = []\n",
        "        # For each sample, compute the majority class\n",
        "        for i in range(test_X.shape[0]):\n",
        "            values, counts = np.unique(all_preds[:, i], return_counts=True)\n",
        "            majority_class = values[np.argmax(counts)]\n",
        "            final_preds.append(majority_class)\n",
        "\n",
        "        return np.array(final_preds), final_preds"
      ]
    },
    {
      "attachments": {},
      "cell_type": "markdown",
      "metadata": {},
      "source": [
        "iii\\. Train the model for the dataset from train-songs.csv using the parameters given below.\n",
        "| Parameter| Value|\n",
        "|----------|------|\n",
        "Number of trees|100|\n",
        "Maximum features per tree|2|\n",
        "Bootstrap sample size|20000|\n",
        "Minimum node size|1|\n",
        "Maximum tree depth|10|\n",
        "\n",
        "\n",
        "Note: The bootstrap sample size is the same as train dataset size in this task.\n"
      ]
    },
    {
      "cell_type": "code",
      "execution_count": 20,
      "metadata": {},
      "outputs": [],
      "source": [
        "# Instantiate the RandomForest model with the specified parameters\n",
        "random_forest_model = RandomForest(\n",
        "    n_trees=100,       # Number of decision trees\n",
        "    max_features=2,    # Maximum features considered per split\n",
        "    max_samples=20000, # Size of each bootstrap sample\n",
        "    min_node_size=1,   # Minimum number of samples in a leaf node\n",
        "    max_depth=10       # Maximum tree depth\n",
        ")\n",
        "\n",
        "# Train the model on training data\n",
        "random_forest_model.train(train_X, train_y)\n",
        "\n",
        "\n"
      ]
    },
    {
      "attachments": {},
      "cell_type": "markdown",
      "metadata": {},
      "source": [
        "   iv\\. Calculate the accuracy of the model using the test dataset and compare your results with the\n",
        "RandomForestClassifier from the scikit-learn library using the following parameters."
      ]
    },
    {
      "cell_type": "code",
      "execution_count": null,
      "metadata": {},
      "outputs": [
        {
          "ename": "AttributeError",
          "evalue": "module 'sklearn.tree' has no attribute 'predict'",
          "output_type": "error",
          "traceback": [
            "\u001b[1;31m---------------------------------------------------------------------------\u001b[0m",
            "\u001b[1;31mAttributeError\u001b[0m                            Traceback (most recent call last)",
            "Cell \u001b[1;32mIn[26], line 4\u001b[0m\n\u001b[0;32m      1\u001b[0m \u001b[38;5;28;01mimport\u001b[39;00m\u001b[38;5;250m \u001b[39m\u001b[38;5;21;01mnumpy\u001b[39;00m\u001b[38;5;250m \u001b[39m\u001b[38;5;28;01mas\u001b[39;00m\u001b[38;5;250m \u001b[39m\u001b[38;5;21;01mnp\u001b[39;00m\n\u001b[0;32m      3\u001b[0m \u001b[38;5;66;03m# Predict with your custom random forest\u001b[39;00m\n\u001b[1;32m----> 4\u001b[0m y_pred_custom \u001b[38;5;241m=\u001b[39m \u001b[43mrandom_forest_model\u001b[49m\u001b[38;5;241;43m.\u001b[39;49m\u001b[43mpredict\u001b[49m\u001b[43m(\u001b[49m\u001b[43mtest_X\u001b[49m\u001b[43m)\u001b[49m\n\u001b[0;32m      6\u001b[0m \u001b[38;5;66;03m# Convert ground truth (test_y) and predictions to NumPy arrays if needed\u001b[39;00m\n\u001b[0;32m      7\u001b[0m y_true \u001b[38;5;241m=\u001b[39m test_y\u001b[38;5;241m.\u001b[39mvalues  \u001b[38;5;66;03m# or test_y.to_numpy()\u001b[39;00m\n",
            "Cell \u001b[1;32mIn[22], line 55\u001b[0m, in \u001b[0;36mRandomForest.predict\u001b[1;34m(self, test_X)\u001b[0m\n\u001b[0;32m     53\u001b[0m \u001b[38;5;250m\u001b[39m\u001b[38;5;124;03m\"\"\"Predict by majority vote across all trained trees.\"\"\"\u001b[39;00m\n\u001b[0;32m     54\u001b[0m \u001b[38;5;66;03m# Collect predictions from each tree\u001b[39;00m\n\u001b[1;32m---> 55\u001b[0m all_preds \u001b[38;5;241m=\u001b[39m np\u001b[38;5;241m.\u001b[39marray([\u001b[43mtree\u001b[49m\u001b[38;5;241;43m.\u001b[39;49m\u001b[43mpredict\u001b[49m(test_X) \u001b[38;5;28;01mfor\u001b[39;00m f \u001b[38;5;129;01min\u001b[39;00m \u001b[38;5;28mself\u001b[39m\u001b[38;5;241m.\u001b[39mtrees])  \u001b[38;5;66;03m# shape: (n_trees, n_samples)\u001b[39;00m\n\u001b[0;32m     57\u001b[0m final_preds \u001b[38;5;241m=\u001b[39m []\n\u001b[0;32m     58\u001b[0m \u001b[38;5;66;03m# For each sample, compute the majority class\u001b[39;00m\n",
            "\u001b[1;31mAttributeError\u001b[0m: module 'sklearn.tree' has no attribute 'predict'"
          ]
        }
      ],
      "source": [
        "import numpy as np\n",
        "\n",
        "# Predict with your custom random forest\n",
        "y_pred_custom = .predict(test_X)\n",
        "\n",
        "# Convert ground truth (test_y) and predictions to NumPy arrays if needed\n",
        "y_true = test_y.values  # or test_y.to_numpy()\n",
        "y_pred = y_pred_custom  # already a NumPy array if coded as above\n",
        "\n",
        "# Calculate accuracy (the fraction of correct predictions)\n",
        "accuracy_custom = np.mean(y_true == y_pred)\n",
        "\n",
        "print(f\"Custom RandomForest Accuracy (no scikit-learn): {accuracy_custom:.4f}\")\n"
      ]
    },
    {
      "cell_type": "code",
      "execution_count": null,
      "metadata": {},
      "outputs": [],
      "source": [
        "# TODO: Train and predict using scikit-learn library\n"
      ]
    }
  ],
  "metadata": {
    "kernel_info": {
      "name": "python3"
    },
    "kernelspec": {
      "display_name": ".venv",
      "language": "python",
      "name": "python3"
    },
    "language_info": {
      "codemirror_mode": {
        "name": "ipython",
        "version": 3
      },
      "file_extension": ".py",
      "mimetype": "text/x-python",
      "name": "python",
      "nbconvert_exporter": "python",
      "pygments_lexer": "ipython3",
      "version": "3.12.8"
    },
    "nteract": {
      "version": "0.15.0"
    }
  },
  "nbformat": 4,
  "nbformat_minor": 2
}
